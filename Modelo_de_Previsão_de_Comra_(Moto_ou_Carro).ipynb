{
  "nbformat": 4,
  "nbformat_minor": 0,
  "metadata": {
    "colab": {
      "provenance": [],
      "include_colab_link": true
    },
    "kernelspec": {
      "name": "python3",
      "display_name": "Python 3"
    },
    "language_info": {
      "name": "python"
    }
  },
  "cells": [
    {
      "cell_type": "markdown",
      "metadata": {
        "id": "view-in-github",
        "colab_type": "text"
      },
      "source": [
        "<a href=\"https://colab.research.google.com/github/JoaoAnjos-DataScience/JoaoAnjos-DataScience/blob/main/Modelo_de_Previs%C3%A3o_de_Comra_(Moto_ou_Carro).ipynb\" target=\"_parent\"><img src=\"https://colab.research.google.com/assets/colab-badge.svg\" alt=\"Open In Colab\"/></a>"
      ]
    },
    {
      "cell_type": "markdown",
      "source": [
        "##**Modelo de Previsão de Compra (Moto ou Carro)**\n",
        "\n"
      ],
      "metadata": {
        "id": "dSeRTqKuKCTI"
      }
    },
    {
      "cell_type": "markdown",
      "source": [
        "Esse código em Python lê um arquivo CSV com respostas de clientes sobre sua preferência entre moto (MT), carro (CR) ou indeciso (IN) e calcula as probabilidades de cada opção para cada cliente. Em seguida, ele adiciona a escolha mais provável à lista de probabilidades e imprime uma tabela com as probabilidades e a escolha mais provável para cada cliente. Finalmente, ele converte a lista de probabilidades em um DataFrame do Pandas e exporta para um arquivo CSV, e depois disso iremos utilizar aprendisado de máquina para prever o conjunto de dados."
      ],
      "metadata": {
        "id": "HwHNefTTYVfk"
      }
    },
    {
      "cell_type": "code",
      "source": [
        "#Nessa primeira parte estou fazendo uma calculadora de probabilidades de compras de Carros ou Motos podendo ser modificado de acordo com a nessecidade.\n",
        "#No final do Código exportaremos um novo arquivo onde deixarei já como default csv, que iremos utilizar para fazer o modelo de Machine Leanning.\n",
        "\n",
        "import csv\n",
        "import pandas as pd\n",
        "import statsmodels.api as sm\n",
        "from sklearn.metrics import accuracy_score\n",
        "import numpy as np\n",
        "\n",
        "moto_count = 0\n",
        "carro_count = 0\n",
        "nao_sei_count = 0\n",
        "current_row = 0\n",
        "\n",
        "with open('/content/Respostas.csv', newline='') as csvfile:\n",
        "    reader = csv.reader(csvfile)\n",
        "    next(reader)  # pular primeira linha\n",
        "    probabilidades = []  # lista para armazenar as probabilidades\n",
        "\n",
        "    for row in reader:\n",
        "        escolha = row[1]\n",
        "        if escolha == 'MT':\n",
        "            moto_count += 1\n",
        "        elif escolha == 'CR':\n",
        "            carro_count += 1\n",
        "        else:\n",
        "            nao_sei_count += 1\n",
        "\n",
        "        total_count = moto_count + carro_count + nao_sei_count\n",
        "\n",
        "        prob_moto = moto_count / total_count\n",
        "        prob_carro = carro_count / total_count\n",
        "        prob_nao_sei = nao_sei_count / total_count\n",
        "\n",
        "        # adicionar as probabilidades à lista do modelo( por Média)\n",
        "        probabilidades.append((prob_moto, prob_carro, prob_nao_sei))\n",
        "\n",
        "        # adicionar a escolha mais provável à lista de probabilidades (modelo)\n",
        "        escolha_mais_provavel = max((prob_moto, 'moto'), (prob_carro, 'carro'), (prob_nao_sei, 'indeciso'))\n",
        "        probabilidades[-1] += (escolha_mais_provavel[1],)  # adicionar a escolha à última tupla da lista\n",
        "\n",
        "\n",
        "\n",
        "# definir a largura das colunas\n",
        "col_width = 10\n",
        "\n",
        "# imprimir o cabeçalho da tabela\n",
        "print(f\"{'Cliente_ID':{col_width}} {'Moto':{col_width}} {'Carro':{col_width}} {'Indeciso':{col_width}} {'Escolha Provavel':{col_width}}\")\n",
        "\n",
        "# imprimir as probabilidades\n",
        "for i, prob in enumerate(probabilidades):\n",
        "    escolha = f\"{i+1}\"\n",
        "    prob_moto = f\"{prob[0]:.2%}\"\n",
        "    prob_carro = f\"{prob[1]:.2%}\"\n",
        "    prob_nao_sei = f\"{prob[2]:.2%}\"\n",
        "    escolha_mais_provavel = prob[3]\n",
        "    print(f\"{escolha:{col_width}} {prob_moto:{col_width}} {prob_carro:{col_width}} {prob_nao_sei:{col_width}} {escolha_mais_provavel:{col_width}}\")\n",
        "\n",
        "# converter a lista de tuplas em um DataFrame\n",
        "df = pd.DataFrame(probabilidades, columns=['Prob. Moto', 'Prob. Carro', 'Prob. Indeciso', 'Escolha Provavel'])\n",
        "df.index.name = 'Cliente_ID'\n",
        "\n",
        "# exportar para CSV\n",
        "df.to_csv('Escolha Possivel.csv')\n",
        "\n",
        "# Carregar os dados para modelo\n",
        "df = pd.read_csv('/content/Escolha Possivel.csv')\n",
        "\n",
        "# Criar a matriz de recursos e o vetor alvo\n",
        "X = df[['Prob. Moto',\t'Prob. Carro','Prob. Indeciso']]\n",
        "y = df['Escolha Provavel'].apply(lambda x: 1 if x == 'carro' else 0)\n",
        "\n",
        "# Ajustar o modelo de regressão linear\n",
        "X = sm.add_constant(X)\n",
        "model = sm.OLS(y, X).fit()\n",
        "\n",
        "# Avaliar a precisão do modelo\n",
        "accuracy_scores = []\n",
        "for i in range(10):\n",
        "  # Dividir em treinamento e teste\n",
        "  train = df.sample(frac=0.8, random_state=i)\n",
        "  test = df.drop(train.index)\n",
        "\n",
        "  # Ajustar o modelo de regressão linear\n",
        "  X_train = train[['Prob. Moto',\t'Prob. Carro','Prob. Indeciso']]\n",
        "  y_train = train['Escolha Provavel'].apply(lambda x: 1 if x == 'carro' else 0)\n",
        "  X_train = sm.add_constant(X_train)\n",
        "  model = sm.OLS(y_train, X_train).fit()\n",
        "\n",
        "  # Fazer previsões no conjunto de teste\n",
        "  X_test = test[['Prob. Moto',\t'Prob. Carro','Prob. Indeciso']]\n",
        "  X_test = sm.add_constant(X_test)\n",
        "  y_test = test['Escolha Provavel'].apply(lambda x: 1 if x == 'carro' else 0)\n",
        "  y_pred = model.predict(X_test)\n",
        "\n",
        ""
      ],
      "metadata": {
        "id": "6cGfwk74d2TD"
      },
      "execution_count": null,
      "outputs": []
    }
  ]
}