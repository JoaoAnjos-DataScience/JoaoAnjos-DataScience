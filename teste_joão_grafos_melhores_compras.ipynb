{
  "cells": [
    {
      "cell_type": "markdown",
      "source": [
        "Carregando os dados"
      ],
      "metadata": {
        "id": "Thz20Cuz-irV"
      }
    },
    {
      "cell_type": "code",
      "source": [
        "import pandas as pd\n",
        "!pip install dash\n",
        "!pip install plotly\n",
        "!pip install pyvis\n",
        "!pip install python-louvain\n",
        "users_df = pd.read_csv(\"/content/bx_teste.csv\", encoding=\"iso-8859-1\")\n",
        "users_df"
      ],
      "metadata": {
        "id": "XStdl40r5VrE"
      },
      "execution_count": null,
      "outputs": []
    },
    {
      "cell_type": "markdown",
      "source": [
        "Verificando as comundades"
      ],
      "metadata": {
        "id": "GZVKs-eV-s9q"
      }
    },
    {
      "cell_type": "code",
      "source": [
        "import networkx as nx\n",
        "import matplotlib.pyplot as plt\n",
        "from networkx.algorithms import community\n",
        "from tqdm import tqdm\n",
        "\n",
        "# Criando um grafo direcionado\n",
        "G = nx.DiGraph()\n",
        "\n",
        "# Convertendo todos os IDs para strings antes de adicionar ao grafo\n",
        "users_df[\"User_ID\"] = users_df[\"User_ID\"].astype(str)\n",
        "users_df[\"ISBN\"] = users_df[\"ISBN\"].astype(str)\n",
        "\n",
        "# Verificando duplicatas e limpando os dados\n",
        "users_df.drop_duplicates(subset=[\"User_ID\", \"ISBN\"], inplace=True)\n",
        "\n",
        "# Adicionando nós (usuários e ISBN)\n",
        "unique_nodes = set(users_df[\"User_ID\"]) | set(users_df[\"ISBN\"])\n",
        "\n",
        "# Adicionando nós ao grafo\n",
        "for node in tqdm(unique_nodes, desc=\"Adicionando nós\"):\n",
        "    G.add_node(str(node))\n",
        "\n",
        "# Adicionando arestas (interações entre usuários e livros)\n",
        "for _, row in tqdm(users_df.iterrows(), total=len(users_df), desc=\"Adicionando arestas\"):\n",
        "    G.add_edge(row[\"User_ID\"], row[\"ISBN\"])\n",
        "\n",
        "# Detecção de comunidades usando Louvain\n",
        "louvain_communities = list(tqdm(community.greedy_modularity_communities(G), desc=\"Detectando comunidades (Louvain)\"))\n",
        "\n",
        "# Imprimindo os resultados\n",
        "print(\"Resultados da detecção de comunidades:\\n\")\n",
        "print(\"Método Louvain:\")\n",
        "print(f\"Número de comunidades: {len(louvain_communities)}\")"
      ],
      "metadata": {
        "colab": {
          "base_uri": "https://localhost:8080/"
        },
        "id": "2NRe7v5UnwXT",
        "outputId": "638afc47-78a9-4887-cb67-e8baacfab6d5"
      },
      "execution_count": 80,
      "outputs": [
        {
          "output_type": "stream",
          "name": "stderr",
          "text": [
            "Adicionando nós: 100%|██████████| 33500/33500 [00:00<00:00, 45409.62it/s]\n",
            "Adicionando arestas: 100%|██████████| 44617/44617 [00:04<00:00, 10599.94it/s]\n",
            "Detectando comunidades (Louvain): 100%|██████████| 2790/2790 [00:00<00:00, 1070347.40it/s]\n"
          ]
        },
        {
          "output_type": "stream",
          "name": "stdout",
          "text": [
            "Resultados da detecção de comunidades:\n",
            "\n",
            "Método Louvain:\n",
            "Número de comunidades: 2790\n"
          ]
        }
      ]
    },
    {
      "cell_type": "markdown",
      "source": [
        "Calculando a centralidade"
      ],
      "metadata": {
        "id": "qF2ZlBhu-4KP"
      }
    },
    {
      "cell_type": "code",
      "source": [
        "# Calculando a centralidade de intermediação para todos os nós\n",
        "node_betweenness = betweenness_centrality(G)"
      ],
      "metadata": {
        "id": "G52Ns2Pv-pef"
      },
      "execution_count": null,
      "outputs": []
    },
    {
      "cell_type": "markdown",
      "source": [
        "Sugerindo os livros pelo ISBN"
      ],
      "metadata": {
        "id": "iTedWioi-8Hs"
      }
    },
    {
      "cell_type": "code",
      "source": [
        "# Sugestão de livros baseada em centralidade de intermediação\n",
        "top_books = sorted((node for node in node_betweenness if node in users_df[\"ISBN\"].unique()), key=lambda x: node_betweenness[x], reverse=True)[:5]\n",
        "print(\"\\nTop 5 livros recomendados com base na centralidade:\")\n",
        "for book in top_books:\n",
        "    print(f\"Livro: {book}, Centralidade: {node_betweenness[book]}\")"
      ],
      "metadata": {
        "colab": {
          "base_uri": "https://localhost:8080/"
        },
        "id": "4ReJkdEGpxXC",
        "outputId": "1bda883c-d263-480a-b214-96d49d4ebd3c"
      },
      "execution_count": 81,
      "outputs": [
        {
          "output_type": "stream",
          "name": "stdout",
          "text": [
            "\n",
            "Top 5 livros recomendados com base na centralidade:\n",
            "Livro: 1931643210, Centralidade: 0.0\n",
            "Livro: 1558007075, Centralidade: 0.0\n",
            "Livro: 068985790X, Centralidade: 0.0\n",
            "Livro: 3518393707, Centralidade: 0.0\n",
            "Livro: 8495359391, Centralidade: 0.0\n"
          ]
        }
      ]
    },
    {
      "cell_type": "markdown",
      "source": [
        "Gerando Grafico teste 1"
      ],
      "metadata": {
        "id": "sTWhCfif_ECZ"
      }
    },
    {
      "cell_type": "code",
      "source": [
        "import matplotlib.colors as mcolors\n",
        "\n",
        "# Melhorando o layout\n",
        "pos = nx.kamada_kawai_layout(G)  # Este layout pode oferecer uma visualização melhor para grafos complexos\n",
        "\n",
        "# Ajustando a paleta de cores para diferenciação clara\n",
        "colors = list(mcolors.TABLEAU_COLORS.keys())  # Usando cores do Tableau para melhor visualização\n",
        "community_colors = {node: colors[i % len(colors)] for i, community in enumerate(louvain_communities) for node in community}\n",
        "\n",
        "# Ajustando tamanho dos nós e arestas\n",
        "node_sizes = [node_betweenness[node] * 1000 for node in G.nodes()]  # Aumenta o tamanho dos nós baseado na centralidade\n",
        "edge_widths = [0.5 for _ in G.edges()]  # Espessura uniforme para todas as arestas, ajuste conforme necessário\n",
        "\n",
        "plt.figure(figsize=(12, 10))\n",
        "nx.draw(G, pos,\n",
        "        node_color=[community_colors[node] for node in G.nodes()],\n",
        "        node_size=node_sizes,\n",
        "        width=edge_widths,\n",
        "        with_labels=False,  # Mudar para True se quiser ver todos os rótulos\n",
        "        edge_color='lightgray')  # Arestas menos destacadas para melhor visualização dos nós\n",
        "\n",
        "# Adicionando uma legenda para as comunidades\n",
        "for i, community in enumerate(louvain_communities):\n",
        "    plt.scatter([], [], c=colors[i % len(colors)], label=f'Comunidade {i+1}')\n",
        "plt.legend(title=\"Comunidades\", loc='upper left', bbox_to_anchor=(1, 1))\n",
        "\n",
        "plt.title('Visualização Melhorada das Comunidades Louvain')\n",
        "plt.show()\n"
      ],
      "metadata": {
        "id": "MZy58Sl_pv82"
      },
      "execution_count": null,
      "outputs": []
    },
    {
      "cell_type": "markdown",
      "source": [
        "Gerando Grafico teste 2"
      ],
      "metadata": {
        "id": "AohhQhbi_F7N"
      }
    },
    {
      "cell_type": "code",
      "source": [
        "import plotly.graph_objects as go\n",
        "import networkx as nx\n",
        "from networkx.algorithms import community\n",
        "from matplotlib.colors import to_hex\n",
        "\n",
        "# Supondo que G e louvain_communities já estejam definidos e calculados.\n",
        "\n",
        "# Preparar posições dos nós com um layout escolhido\n",
        "pos = nx.kamada_kawai_layout(G)\n",
        "\n",
        "# Convertendo cores do Matplotlib para Hexadecimal\n",
        "colors = [to_hex(c) for c in mcolors.TABLEAU_COLORS.values()]\n",
        "community_color = {node: colors[i % len(colors)] for i, community in enumerate(louvain_communities) for node in community}\n",
        "\n",
        "# Preparar dados dos nós\n",
        "node_trace = go.Scatter(\n",
        "    x=[pos[node][0] for node in G.nodes()],\n",
        "    y=[pos[node][1] for node in G.nodes()],\n",
        "    text=[f'Node: {node}' for node in G.nodes()],\n",
        "    mode='markers+text',\n",
        "    hoverinfo='text',\n",
        "    marker=dict(\n",
        "        showscale=False,\n",
        "        colorscale='Viridis',\n",
        "        size=10,\n",
        "        color=[community_color[node] for node in G.nodes()],  # Cores em formato hexadecimal\n",
        "        line_width=2))\n",
        "\n",
        "# Preparar dados das arestas\n",
        "edge_trace = go.Scatter(\n",
        "    x=[],\n",
        "    y=[],\n",
        "    line=dict(width=0.5, color='#888'),\n",
        "    hoverinfo='none',\n",
        "    mode='lines')\n",
        "\n",
        "for edge in G.edges():\n",
        "    x0, y0 = pos[edge[0]]\n",
        "    x1, y1 = pos[edge[1]]\n",
        "    edge_trace['x'] += (x0, x1, None)\n",
        "    edge_trace['y'] += (y0, y1, None)\n",
        "\n",
        "# Criar a figura\n",
        "fig = go.Figure(data=[edge_trace, node_trace],\n",
        "                layout=go.Layout(\n",
        "                    title='<br>Network graph made with Python',\n",
        "                    titlefont_size=16,\n",
        "                    showlegend=False,\n",
        "                    hovermode='closest',\n",
        "                    margin=dict(b=20, l=5, r=5, t=40),\n",
        "                    annotations=[dict(\n",
        "                        text=\"Python code: NetworkX and Plotly\",\n",
        "                        showarrow=False,\n",
        "                        xref=\"paper\", yref=\"paper\",\n",
        "                        x=0.005, y=-0.002)],\n",
        "                    xaxis=dict(showgrid=False, zeroline=False, showticklabels=False),\n",
        "                    yaxis=dict(showgrid=False, zeroline=False, showticklabels=False))\n",
        "                )\n",
        "\n",
        "fig.show()\n"
      ],
      "metadata": {
        "id": "rfF0fyQOn8zx"
      },
      "execution_count": null,
      "outputs": []
    },
    {
      "cell_type": "markdown",
      "source": [
        "Gerando Grafico teste 3"
      ],
      "metadata": {
        "id": "RiSJpBpp_IPK"
      }
    },
    {
      "cell_type": "code",
      "source": [
        "import dash\n",
        "from dash import html, dcc, Input, Output\n",
        "import plotly.graph_objects as go\n",
        "import networkx as nx\n",
        "from networkx.algorithms import community\n",
        "from matplotlib.colors import to_hex\n",
        "\n",
        "# Suponha que 'G' e 'louvain_communities' estejam definidos e calculados.\n",
        "colors = [to_hex(c) for c in mcolors.TABLEAU_COLORS.values()]  # Cores em hexadecimal\n",
        "\n",
        "# Posições dos nós com layout Kamada-Kawai\n",
        "pos = nx.kamada_kawai_layout(G)\n",
        "\n",
        "app = dash.Dash(__name__, external_stylesheets=['https://codepen.io/chriddyp/pen/bWLwgP.css'])\n",
        "\n",
        "# Dropdown para seleção de comunidades\n",
        "community_options = [{'label': f'Comunidade {i + 1}', 'value': i} for i in range(len(louvain_communities))]\n",
        "community_dropdown = dcc.Dropdown(\n",
        "    options=community_options,\n",
        "    id='community-dropdown',\n",
        "    style={'width': '50%', 'padding': '10px'}\n",
        ")\n",
        "\n",
        "# Componente Graph de Plotly\n",
        "graph_component = dcc.Graph(id='network-graph')\n",
        "\n",
        "app.layout = html.Div([\n",
        "    html.Div([community_dropdown], style={'display': 'flex', 'justifyContent': 'center'}),\n",
        "    graph_component\n",
        "], style={'fontFamily': 'Arial, sans-serif'})\n",
        "\n",
        "@app.callback(\n",
        "    Output('network-graph', 'figure'),\n",
        "    Input('community-dropdown', 'value')\n",
        ")\n",
        "def update_graph(selected_community_index):\n",
        "    fig = go.Figure()\n",
        "\n",
        "    # Arestas em cinza para menos destaque\n",
        "    for edge in G.edges():\n",
        "        fig.add_trace(go.Scatter(\n",
        "            x=[pos[edge[0]][0], pos[edge[1]][0]], y=[pos[edge[0]][1], pos[edge[1]][1]],\n",
        "            line=dict(color='gray', width=1),\n",
        "            mode='lines',\n",
        "            hoverinfo='none'\n",
        "        ))\n",
        "\n",
        "    # Nós destacados pela seleção de comunidade\n",
        "    for i, community in enumerate(louvain_communities):\n",
        "        node_x = [pos[node][0] for node in community]\n",
        "        node_y = [pos[node][1] for node in community]\n",
        "        node_color = colors[i % len(colors)] if i == selected_community_index else '#cccccc'\n",
        "\n",
        "        fig.add_trace(go.Scatter(\n",
        "            x=node_x, y=node_y,\n",
        "            mode='markers+text',\n",
        "            marker=dict(size=10, color=node_color),\n",
        "            text=[node if i == selected_community_index else '' for node in community],  # Mostra rótulos somente para a comunidade selecionada\n",
        "            hoverinfo='text',\n",
        "            hovertext=[f'Node: {node}' for node in community]\n",
        "        ))\n",
        "\n",
        "    fig.update_layout(\n",
        "        showlegend=False,\n",
        "        hovermode='closest',\n",
        "        margin={'b': 20, 'l': 5, 'r': 5, 't': 40},\n",
        "        xaxis={'showgrid': False, 'zeroline': False, 'showticklabels': False},\n",
        "        yaxis={'showgrid': False, 'zeroline': False, 'showticklabels': False},\n",
        "        paper_bgcolor='white',\n",
        "        plot_bgcolor='white'\n",
        "    )\n",
        "\n",
        "    return fig\n",
        "\n",
        "if __name__ == '__main__':\n",
        "    app.run_server(debug=True)\n"
      ],
      "metadata": {
        "id": "eQIQ7AaooVYf"
      },
      "execution_count": null,
      "outputs": []
    }
  ],
  "metadata": {
    "colab": {
      "provenance": [],
      "authorship_tag": "ABX9TyOfeIKFEBHa2h8dG+SziwcY"
    },
    "kernelspec": {
      "display_name": "Python 3",
      "name": "python3"
    },
    "language_info": {
      "name": "python"
    }
  },
  "nbformat": 4,
  "nbformat_minor": 0
}