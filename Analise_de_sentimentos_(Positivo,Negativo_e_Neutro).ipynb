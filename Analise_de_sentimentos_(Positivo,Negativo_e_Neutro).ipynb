{
  "nbformat": 4,
  "nbformat_minor": 0,
  "metadata": {
    "colab": {
      "provenance": [],
      "authorship_tag": "ABX9TyOoExVgbnYTdjAjZJ2Zpwe3",
      "include_colab_link": true
    },
    "kernelspec": {
      "name": "python3",
      "display_name": "Python 3"
    },
    "language_info": {
      "name": "python"
    }
  },
  "cells": [
    {
      "cell_type": "markdown",
      "metadata": {
        "id": "view-in-github",
        "colab_type": "text"
      },
      "source": [
        "<a href=\"https://colab.research.google.com/github/JoaoAnjos-DataScience/JoaoAnjos-DataScience/blob/main/Analise_de_sentimentos_(Positivo%2CNegativo_e_Neutro).ipynb\" target=\"_parent\"><img src=\"https://colab.research.google.com/assets/colab-badge.svg\" alt=\"Open In Colab\"/></a>"
      ]
    },
    {
      "cell_type": "code",
      "execution_count": null,
      "metadata": {
        "colab": {
          "base_uri": "https://localhost:8080/"
        },
        "id": "FrWIrKd-Fe2D",
        "outputId": "295cc816-c24c-4ca1-ec5c-b1e70ffd5f63"
      },
      "outputs": [
        {
          "output_type": "stream",
          "name": "stdout",
          "text": [
            "Texto 0 é neutro\n",
            "Texto 1 é neutro\n",
            "Texto 2 é neutro\n",
            "Texto 3 é neutro\n",
            "Texto 4 é neutro\n",
            "Texto 5 é neutro\n",
            "Texto 6 é neutro\n",
            "Texto 7 é neutro\n",
            "Texto 8 é neutro\n",
            "Texto 9 é neutro\n",
            "Texto 10 é neutro\n",
            "Texto 11 é neutro\n",
            "Texto 12 é neutro\n",
            "Texto 13 é neutro\n",
            "Texto 14 é neutro\n",
            "Texto 15 é neutro\n",
            "Texto 16 é neutro\n",
            "Texto 17 é neutro\n",
            "Texto 18 é neutro\n",
            "Texto 19 é neutro\n",
            "Texto 20 é neutro\n",
            "Texto 21 é neutro\n",
            "Texto 22 é neutro\n",
            "Texto 23 é neutro\n",
            "Texto 24 é neutro\n",
            "Texto 25 é neutro\n",
            "Texto 26 é neutro\n",
            "Texto 27 é neutro\n",
            "Texto 28 é neutro\n",
            "Texto 29 é neutro\n",
            "Texto 30 é neutro\n",
            "Texto 31 é neutro\n",
            "Texto 32 é neutro\n",
            "Texto 33 é neutro\n"
          ]
        }
      ],
      "source": [
        "import pandas as pd\n",
        "from textblob import TextBlob\n",
        "\n",
        "# Carregando arquivo CSV\n",
        "df = pd.read_csv('/content/analise de sentimentos positivo neutro e negativo - Página1.csv')\n",
        "\n",
        "# Iterando sobre as linhas do DataFrame\n",
        "for index, row in df.iterrows():\n",
        "    # Acessando o texto da linha atual\n",
        "    respostas = row['Respostas']\n",
        "\n",
        "    # Analisando o sentimento do texto\n",
        "    tb = TextBlob(texto)\n",
        "    polaridade = tb.sentiment.polarity\n",
        "\n",
        "    # Imprimindo o sentimento\n",
        "    if polaridade > 0:\n",
        "        print('Texto {} é positivo'.format(index))\n",
        "    elif polaridade < 0:\n",
        "        print('Texto {} é negativo'.format(index))\n",
        "    else:\n",
        "        print('Texto {} é neutro'.format(index))\n",
        "\n",
        "\n"
      ]
    },
    {
      "cell_type": "code",
      "source": [
        "import csv\n",
        "from google.cloud import language_v1\n",
        "\n",
        "# Crie uma instância do cliente da API\n",
        "client = language_v1.LanguageServiceClient()\n",
        "\n",
        "# Abra o arquivo CSV com os textos que serão analisados\n",
        "with open('/content/analise de sentimentos positivo neutro e negativo - Página1.csv', 'r') as file:\n",
        "    # Crie um objeto leitor de CSV\n",
        "    reader = csv.reader(file)\n",
        "    # Pule o cabeçalho do CSV, se houver\n",
        "    next(reader)\n",
        "    # Para cada linha do CSV\n",
        "    for row in reader:\n",
        "        # Obtenha o texto a partir da coluna adequada do CSV (aqui assumimos que é a coluna 0)\n",
        "        text = row[0]\n",
        "        # Crie um documento com o texto a ser analisado\n",
        "        document = language_v1.Document(content=text, type_=language_v1.Document.Type.PLAIN_TEXT)\n",
        "        # Faça a chamada para a API\n",
        "        sentiment = client.analyze_sentiment(request={'document': document}).document_sentiment.score\n",
        "        # Imprima o resultado da análise\n",
        "        if sentiment > 0:\n",
        "            print(f'O texto \"{text}\" tem sentimento positivo')\n",
        "        elif sentiment == 0:\n",
        "            print(f'O texto \"{text}\" não tem sentimento')\n",
        "        else:\n",
        "            print(f'O texto \"{text}\" tem sentimento negativo')\n"
      ],
      "metadata": {
        "id": "30kjj-cGNwrE"
      },
      "execution_count": null,
      "outputs": []
    }
  ]
}